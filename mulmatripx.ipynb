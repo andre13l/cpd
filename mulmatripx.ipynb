{
 "cells": [
  {
   "cell_type": "code",
   "execution_count": null,
   "metadata": {},
   "outputs": [],
   "source": [
    "import time\n",
    "import numpy as np\n",
    "\n",
    "def on_mult(m_ar, m_br):\n",
    "    start_time = time.time()\n",
    "    \n",
    "    pha = np.ones((m_ar, m_ar))\n",
    "    phb = np.array([[i + 1 for _ in range(m_br)] for i in range(m_br)])\n",
    "\n",
    "    phc = np.zeros((m_ar, m_br))\n",
    "    for i in range(m_ar):\n",
    "        for j in range(m_br):\n",
    "            temp = 0\n",
    "            for k in range(m_ar):\n",
    "                temp += pha[i, k] * phb[k, j]\n",
    "            phc[i, j] = temp\n",
    "\n",
    "    end_time = time.time()\n",
    "    elapsed_time = end_time - start_time\n",
    "    print(f\"Time: {elapsed_time:.3f} seconds\")\n",
    "\n",
    "    print(\"Result matrix:\")\n",
    "    for i in (phc[:1, :min(10, m_br)]):\n",
    "        print (i)\n",
    "\n",
    "lin = int(input(\"number of lines\\n\"))\n",
    "col = lin\n",
    "on_mult(col, lin)"
   ]
  }
 ],
 "metadata": {
  "language_info": {
   "name": "python"
  }
 },
 "nbformat": 4,
 "nbformat_minor": 2
}
